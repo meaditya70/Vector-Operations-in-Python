{
 "cells": [
  {
   "cell_type": "code",
   "execution_count": 2,
   "id": "1567460d",
   "metadata": {},
   "outputs": [],
   "source": [
    "from math import acos"
   ]
  },
  {
   "cell_type": "code",
   "execution_count": 3,
   "id": "2ed281b6",
   "metadata": {},
   "outputs": [],
   "source": [
    "class vec:\n",
    "    def __init__(self, x, y, z):\n",
    "        self.a = x\n",
    "        self.b = y\n",
    "        self.c = z\n",
    "        \n",
    "    def __repr__(self):\n",
    "        return f\"({self.a}i) + ({self.b}j) + ({self.c}k)\"\n",
    "        \n",
    "    def __add__(self, other):\n",
    "        return vec(self.a + other.a, self.b + other.b, self.c + other.c)\n",
    "    \n",
    "    def __sub__(self, other):\n",
    "        return vec(self.a - other.a, self.b - other.b, self.c - other.c)\n",
    "    \n",
    "    def cp(self, other):\n",
    "        # A × B = (bz – cy)i + (cx – az)j + (ay – bx)k\n",
    "        return vec(self.b * other.c - self.c * other.b, \n",
    "                   self.c * other.a - self.a * other.c, \n",
    "                   self.a * other.b - self.b * other.a)\n",
    "    \n",
    "    def dp(self,other):\n",
    "        # A . B = ax + by + cz \n",
    "        return self.a * other.a + self.b * other.b + self.c * other.c\n",
    "    \n",
    "    def __mag(self):\n",
    "        # |A| = √(a^2 + b^2 + c^2)\n",
    "        return (self.a ** 2 + self.b ** 2 + self.c ** 2) ** (1/2)\n",
    "    \n",
    "    def vec_angle(self, other):\n",
    "        # θ = cos-1 [ (a · b) / (|a| |b|) ]\n",
    "        return acos(self.dp(other)/(self.__mag() * other.__mag()))"
   ]
  },
  {
   "cell_type": "code",
   "execution_count": 5,
   "id": "ca669f30",
   "metadata": {},
   "outputs": [
    {
     "name": "stdout",
     "output_type": "stream",
     "text": [
      "(-0.83771i) + (-0.4482249999999999j) + (-2.035781k)\n",
      "(-0.87229i) + (-3.077775j) + (0.44578099999999987k)\n",
      "(3.232743028i) + (-1.074613305j) + (-1.093650355k)\n",
      "-1.3463103799999996\n",
      "1.9306915688972905\n"
     ]
    }
   ],
   "source": [
    "v1 = vec(-0.855,-1.763,-0.795)\n",
    "v2 = vec(0.01729,1.314775,-1.240781)\n",
    "print(v1 + v2)\n",
    "print(v1 - v2)\n",
    "print(v1.cp(v2))\n",
    "print(v1.dp(v2))\n",
    "print(v1.vec_angle(v2))"
   ]
  },
  {
   "cell_type": "code",
   "execution_count": 39,
   "id": "0a780499",
   "metadata": {},
   "outputs": [
    {
     "name": "stdout",
     "output_type": "stream",
     "text": [
      "(10i) + (22j) + (33k)\n",
      "(-2i) + (-2j) + (-3k)\n",
      "(0i) + (18j) + (-12k)\n",
      "414\n",
      "0.052206883568503164\n"
     ]
    }
   ],
   "source": [
    "v1 = vec(4,10,15)\n",
    "v2 = vec(6,12,18)\n",
    "print(v1 + v2)\n",
    "print(v1 - v2)\n",
    "print(v1.cp(v2))\n",
    "print(v1.dp(v2))\n",
    "print(v1.vec_angle(v2))"
   ]
  },
  {
   "cell_type": "code",
   "execution_count": null,
   "id": "3a2a492d",
   "metadata": {},
   "outputs": [],
   "source": []
  }
 ],
 "metadata": {
  "kernelspec": {
   "display_name": "Python 3 (ipykernel)",
   "language": "python",
   "name": "python3"
  },
  "language_info": {
   "codemirror_mode": {
    "name": "ipython",
    "version": 3
   },
   "file_extension": ".py",
   "mimetype": "text/x-python",
   "name": "python",
   "nbconvert_exporter": "python",
   "pygments_lexer": "ipython3",
   "version": "3.8.3"
  }
 },
 "nbformat": 4,
 "nbformat_minor": 5
}
